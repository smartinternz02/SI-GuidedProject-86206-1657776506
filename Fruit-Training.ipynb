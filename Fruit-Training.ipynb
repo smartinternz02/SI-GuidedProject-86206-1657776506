{
 "cells": [
  {
   "cell_type": "code",
   "execution_count": 1,
   "id": "c98f3073",
   "metadata": {},
   "outputs": [],
   "source": [
    "from keras.models import Sequential\n",
    "from keras.layers import Dense\n",
    "from keras.layers import Convolution2D\n",
    "from keras.layers import MaxPooling2D\n",
    "from keras.layers import Flatten"
   ]
  },
  {
   "cell_type": "code",
   "execution_count": 2,
   "id": "c51dbeea",
   "metadata": {},
   "outputs": [],
   "source": [
    "from keras.preprocessing.image import ImageDataGenerator\n",
    "train_datagen = ImageDataGenerator(rescale = 1./255,shear_range = 0.2,zoom_range = 0.2,horizontal_flip = True)\n",
    "test_datagen =ImageDataGenerator(rescale = 1)"
   ]
  },
  {
   "cell_type": "code",
   "execution_count": 3,
   "id": "1122facf",
   "metadata": {},
   "outputs": [
    {
     "name": "stdout",
     "output_type": "stream",
     "text": [
      "Found 5384 images belonging to 6 classes.\n",
      "Found 1686 images belonging to 6 classes.\n"
     ]
    }
   ],
   "source": [
    "x_train = train_datagen.flow_from_directory('C:\\\\Users\\Sonam\\\\Downloads\\\\IBM Project\\\\Dataset Plant Disease\\\\fruit-dataset\\\\fruit-dataset\\\\train',\n",
    "                                            target_size = (128,128),batch_size = 32, class_mode = 'categorical')\n",
    "x_test =  test_datagen.flow_from_directory('C:\\\\Users\\\\Sonam\\\\Downloads\\\\IBM Project\\\\Dataset Plant Disease\\\\fruit-dataset\\\\fruit-dataset\\\\test',\n",
    "                                           target_size = (128,128),batch_size = 32, class_mode = 'categorical')\n"
   ]
  },
  {
   "cell_type": "code",
   "execution_count": 4,
   "id": "30c3c002",
   "metadata": {},
   "outputs": [
    {
     "name": "stdout",
     "output_type": "stream",
     "text": [
      "{'Apple___Black_rot': 0, 'Apple___healthy': 1, 'Corn_(maize)___Northern_Leaf_Blight': 2, 'Corn_(maize)___healthy': 3, 'Peach___Bacterial_spot': 4, 'Peach___healthy': 5}\n"
     ]
    }
   ],
   "source": [
    "print(x_train.class_indices)"
   ]
  },
  {
   "cell_type": "code",
   "execution_count": 5,
   "id": "0e0695d5",
   "metadata": {},
   "outputs": [],
   "source": [
    "model = Sequential()"
   ]
  },
  {
   "cell_type": "code",
   "execution_count": 6,
   "id": "ff94a9a1",
   "metadata": {},
   "outputs": [],
   "source": [
    "model.add(Convolution2D(32,(3,3),input_shape = (128,128,3),activation = 'relu'))"
   ]
  },
  {
   "cell_type": "code",
   "execution_count": 7,
   "id": "3ebed1ab",
   "metadata": {},
   "outputs": [],
   "source": [
    "model.add(MaxPooling2D(pool_size = (2,2)))"
   ]
  },
  {
   "cell_type": "code",
   "execution_count": 8,
   "id": "17d6a828",
   "metadata": {},
   "outputs": [],
   "source": [
    "model.add(Flatten())"
   ]
  },
  {
   "cell_type": "code",
   "execution_count": 9,
   "id": "edc3af47",
   "metadata": {},
   "outputs": [],
   "source": [
    "model.add(Dense(units = 40 ,activation = 'relu'))\n",
    "model.add(Dense(units = 20 ,activation = 'relu'))\n",
    "model.add(Dense(units = 6,activation = 'softmax'))"
   ]
  },
  {
   "cell_type": "code",
   "execution_count": 10,
   "id": "a2e74fa3",
   "metadata": {},
   "outputs": [],
   "source": [
    "model.compile(loss = 'categorical_crossentropy',optimizer = \"adam\",metrics = [\"accuracy\"])"
   ]
  },
  {
   "cell_type": "code",
   "execution_count": 11,
   "id": "86f007da",
   "metadata": {},
   "outputs": [
    {
     "name": "stderr",
     "output_type": "stream",
     "text": [
      "C:\\Users\\Sonam\\AppData\\Local\\Temp\\ipykernel_9544\\2931598127.py:1: UserWarning: `Model.fit_generator` is deprecated and will be removed in a future version. Please use `Model.fit`, which supports generators.\n",
      "  model.fit_generator(x_train, steps_per_epoch = 168,epochs = 3,validation_data = x_test,validation_steps = 52)\n"
     ]
    },
    {
     "name": "stdout",
     "output_type": "stream",
     "text": [
      "Epoch 1/3\n",
      "168/168 [==============================] - 85s 486ms/step - loss: 1.0772 - accuracy: 0.6332 - val_loss: 176.5419 - val_accuracy: 0.6971\n",
      "Epoch 2/3\n",
      "168/168 [==============================] - 65s 385ms/step - loss: 0.5097 - accuracy: 0.8139 - val_loss: 210.3766 - val_accuracy: 0.5805\n",
      "Epoch 3/3\n",
      "168/168 [==============================] - 57s 339ms/step - loss: 0.3645 - accuracy: 0.8647 - val_loss: 416.6560 - val_accuracy: 0.4694\n"
     ]
    },
    {
     "data": {
      "text/plain": [
       "<keras.callbacks.History at 0x1fab7b4e1c0>"
      ]
     },
     "execution_count": 11,
     "metadata": {},
     "output_type": "execute_result"
    }
   ],
   "source": [
    "model.fit_generator(x_train, steps_per_epoch = 168,epochs = 3,validation_data = x_test,validation_steps = 52)"
   ]
  },
  {
   "cell_type": "code",
   "execution_count": 12,
   "id": "179b254c",
   "metadata": {},
   "outputs": [],
   "source": [
    "model.save(\"fruit.h5\")"
   ]
  },
  {
   "cell_type": "code",
   "execution_count": 13,
   "id": "b1841f25",
   "metadata": {},
   "outputs": [
    {
     "name": "stdout",
     "output_type": "stream",
     "text": [
      "Model: \"sequential\"\n",
      "_________________________________________________________________\n",
      " Layer (type)                Output Shape              Param #   \n",
      "=================================================================\n",
      " conv2d (Conv2D)             (None, 126, 126, 32)      896       \n",
      "                                                                 \n",
      " max_pooling2d (MaxPooling2D  (None, 63, 63, 32)       0         \n",
      " )                                                               \n",
      "                                                                 \n",
      " flatten (Flatten)           (None, 127008)            0         \n",
      "                                                                 \n",
      " dense (Dense)               (None, 40)                5080360   \n",
      "                                                                 \n",
      " dense_1 (Dense)             (None, 20)                820       \n",
      "                                                                 \n",
      " dense_2 (Dense)             (None, 6)                 126       \n",
      "                                                                 \n",
      "=================================================================\n",
      "Total params: 5,082,202\n",
      "Trainable params: 5,082,202\n",
      "Non-trainable params: 0\n",
      "_________________________________________________________________\n"
     ]
    }
   ],
   "source": [
    "model.summary()"
   ]
  },
  {
   "cell_type": "code",
   "execution_count": 14,
   "id": "0d435cda",
   "metadata": {},
   "outputs": [],
   "source": [
    "from tensorflow.keras.models import load_model\n",
    "from tensorflow.keras.preprocessing.image import img_to_array\n",
    "from tensorflow.keras.preprocessing import image\n",
    "import numpy as np"
   ]
  },
  {
   "cell_type": "code",
   "execution_count": 15,
   "id": "69616b55",
   "metadata": {},
   "outputs": [],
   "source": [
    "model = load_model(\"fruit.h5\")"
   ]
  },
  {
   "cell_type": "code",
   "execution_count": 21,
   "id": "526aeca2",
   "metadata": {},
   "outputs": [],
   "source": [
    "img = image.load_img('C:\\\\Users\\\\Sonam\\\\Downloads\\\\IBM Project\\\\Dataset Plant Disease\\\\fruit-dataset\\\\fruit-dataset\\\\test\\\\Apple___healthy\\\\00fca0da-2db3-481b-b98a-9b67bb7b105c___RS_HL 7708.JPG',target_size = (128,128))"
   ]
  },
  {
   "cell_type": "code",
   "execution_count": 22,
   "id": "119403b9",
   "metadata": {},
   "outputs": [],
   "source": [
    "x = image.img_to_array(img)"
   ]
  },
  {
   "cell_type": "code",
   "execution_count": 23,
   "id": "2c0e239a",
   "metadata": {},
   "outputs": [],
   "source": [
    "x = np.expand_dims(x,axis = 0)"
   ]
  },
  {
   "cell_type": "code",
   "execution_count": 29,
   "id": "fb2902ec",
   "metadata": {},
   "outputs": [],
   "source": [
    "##pred = model.predict_classes(x)"
   ]
  },
  {
   "cell_type": "code",
   "execution_count": 26,
   "id": "34400153",
   "metadata": {},
   "outputs": [
    {
     "name": "stdout",
     "output_type": "stream",
     "text": [
      "1/1 [==============================] - 1s 589ms/step\n"
     ]
    }
   ],
   "source": [
    "pred = model.predict(x)\n",
    "classes_x=np.argmax(pred,axis=1)"
   ]
  },
  {
   "cell_type": "code",
   "execution_count": 27,
   "id": "e48750ff",
   "metadata": {},
   "outputs": [
    {
     "data": {
      "text/plain": [
       "array([0], dtype=int64)"
      ]
     },
     "execution_count": 27,
     "metadata": {},
     "output_type": "execute_result"
    }
   ],
   "source": [
    "classes_x"
   ]
  },
  {
   "cell_type": "code",
   "execution_count": 28,
   "id": "6e38f5d7",
   "metadata": {},
   "outputs": [
    {
     "data": {
      "text/plain": [
       "array([[1., 0., 0., 0., 0., 0.]], dtype=float32)"
      ]
     },
     "execution_count": 28,
     "metadata": {},
     "output_type": "execute_result"
    }
   ],
   "source": [
    "pred"
   ]
  },
  {
   "cell_type": "code",
   "execution_count": null,
   "id": "e8ffd50a",
   "metadata": {},
   "outputs": [],
   "source": []
  }
 ],
 "metadata": {
  "kernelspec": {
   "display_name": "Python 3 (ipykernel)",
   "language": "python",
   "name": "python3"
  },
  "language_info": {
   "codemirror_mode": {
    "name": "ipython",
    "version": 3
   },
   "file_extension": ".py",
   "mimetype": "text/x-python",
   "name": "python",
   "nbconvert_exporter": "python",
   "pygments_lexer": "ipython3",
   "version": "3.9.12"
  }
 },
 "nbformat": 4,
 "nbformat_minor": 5
}

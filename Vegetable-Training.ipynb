{
 "cells": [
  {
   "cell_type": "code",
   "execution_count": 8,
   "id": "e5fe7b1b",
   "metadata": {},
   "outputs": [],
   "source": [
    "from keras.models import Sequential\n",
    "from keras.layers import Dense\n",
    "from keras.layers import Convolution2D\n",
    "from keras.layers import MaxPooling2D\n",
    "from keras.layers import Flatten"
   ]
  },
  {
   "cell_type": "code",
   "execution_count": 9,
   "id": "57ef244b",
   "metadata": {},
   "outputs": [],
   "source": [
    "from keras.preprocessing.image import ImageDataGenerator\n",
    "train_datagen = ImageDataGenerator(rescale = 1./255,shear_range = 0.2,zoom_range = 0.2,horizontal_flip = True)\n",
    "test_datagen =ImageDataGenerator(rescale = 1)"
   ]
  },
  {
   "cell_type": "code",
   "execution_count": 10,
   "id": "5639d777",
   "metadata": {},
   "outputs": [
    {
     "name": "stdout",
     "output_type": "stream",
     "text": [
      "Found 11386 images belonging to 9 classes.\n",
      "Found 3416 images belonging to 9 classes.\n"
     ]
    }
   ],
   "source": [
    "x_train = train_datagen.flow_from_directory('C:\\\\Users\\Sonam\\\\Downloads\\\\IBM Project\\\\Dataset Plant Disease\\\\Veg-dataset\\\\Veg-dataset\\\\train_set',target_size = (128,128),batch_size = 16,class_mode = 'categorical')\n",
    "x_test = test_datagen.flow_from_directory('C:\\\\Users\\Sonam\\\\Downloads\\\\IBM Project\\\\Dataset Plant Disease\\\\Veg-dataset\\\\Veg-dataset\\\\test_set',target_size = (128,128),batch_size = 16,class_mode = 'categorical')"
   ]
  },
  {
   "cell_type": "code",
   "execution_count": 11,
   "id": "ede1b2e8",
   "metadata": {},
   "outputs": [
    {
     "name": "stdout",
     "output_type": "stream",
     "text": [
      "{'Pepper,_bell___Bacterial_spot': 0, 'Pepper,_bell___healthy': 1, 'Potato___Early_blight': 2, 'Potato___Late_blight': 3, 'Potato___healthy': 4, 'Tomato___Bacterial_spot': 5, 'Tomato___Late_blight': 6, 'Tomato___Leaf_Mold': 7, 'Tomato___Septoria_leaf_spot': 8}\n"
     ]
    }
   ],
   "source": [
    "print(x_train.class_indices)"
   ]
  },
  {
   "cell_type": "code",
   "execution_count": 12,
   "id": "ba902a1a",
   "metadata": {},
   "outputs": [],
   "source": [
    "model = Sequential()"
   ]
  },
  {
   "cell_type": "code",
   "execution_count": 13,
   "id": "fd3b5c63",
   "metadata": {},
   "outputs": [],
   "source": [
    "model.add(Convolution2D(32,(3,3), input_shape = (128,128,3), activation = 'relu'))"
   ]
  },
  {
   "cell_type": "code",
   "execution_count": 14,
   "id": "3ce9e9b4",
   "metadata": {},
   "outputs": [],
   "source": [
    "model.add(MaxPooling2D(pool_size = (2,2)))"
   ]
  },
  {
   "cell_type": "code",
   "execution_count": 15,
   "id": "6a13ed02",
   "metadata": {},
   "outputs": [],
   "source": [
    "model.add(Flatten())"
   ]
  },
  {
   "cell_type": "code",
   "execution_count": 16,
   "id": "d41c5a4c",
   "metadata": {},
   "outputs": [],
   "source": [
    "model.add(Dense(units = 300, activation ='relu'))\n"
   ]
  },
  {
   "cell_type": "code",
   "execution_count": 17,
   "id": "5328b60b",
   "metadata": {},
   "outputs": [],
   "source": [
    "model.add(Dense(units = 150, activation ='relu'))"
   ]
  },
  {
   "cell_type": "code",
   "execution_count": 18,
   "id": "71824ba4",
   "metadata": {},
   "outputs": [],
   "source": [
    "model.add(Dense(units = 75, activation ='relu'))"
   ]
  },
  {
   "cell_type": "code",
   "execution_count": 19,
   "id": "77e5ca8e",
   "metadata": {},
   "outputs": [],
   "source": [
    "model.add(Dense(units = 9,activation = 'softmax'))"
   ]
  },
  {
   "cell_type": "code",
   "execution_count": 20,
   "id": "65f7e097",
   "metadata": {},
   "outputs": [],
   "source": [
    "model.compile(loss = 'categorical_crossentropy',optimizer = \"adam\",metrics = [\"accuracy\"])"
   ]
  },
  {
   "cell_type": "code",
   "execution_count": 21,
   "id": "574fd94c",
   "metadata": {},
   "outputs": [
    {
     "name": "stderr",
     "output_type": "stream",
     "text": [
      "C:\\Users\\Sonam\\AppData\\Local\\Temp\\ipykernel_16268\\4160098203.py:1: UserWarning: `Model.fit_generator` is deprecated and will be removed in a future version. Please use `Model.fit`, which supports generators.\n",
      "  model.fit_generator(x_train, steps_per_epoch = 89,epochs = 20,validation_data = x_test, validation_steps = 27)\n"
     ]
    },
    {
     "name": "stdout",
     "output_type": "stream",
     "text": [
      "Epoch 1/20\n",
      "89/89 [==============================] - 57s 621ms/step - loss: 2.2771 - accuracy: 0.2746 - val_loss: 159.1076 - val_accuracy: 0.4907\n",
      "Epoch 2/20\n",
      "89/89 [==============================] - 39s 432ms/step - loss: 1.3946 - accuracy: 0.5133 - val_loss: 433.7809 - val_accuracy: 0.3264\n",
      "Epoch 3/20\n",
      "89/89 [==============================] - 43s 485ms/step - loss: 1.1074 - accuracy: 0.6194 - val_loss: 519.7263 - val_accuracy: 0.3009\n",
      "Epoch 4/20\n",
      "89/89 [==============================] - 60s 669ms/step - loss: 0.9374 - accuracy: 0.6847 - val_loss: 614.6648 - val_accuracy: 0.2755\n",
      "Epoch 5/20\n",
      "89/89 [==============================] - 53s 589ms/step - loss: 0.8327 - accuracy: 0.7001 - val_loss: 890.0202 - val_accuracy: 0.2014\n",
      "Epoch 6/20\n",
      "89/89 [==============================] - 50s 557ms/step - loss: 0.8473 - accuracy: 0.7008 - val_loss: 647.0312 - val_accuracy: 0.2407\n",
      "Epoch 7/20\n",
      "89/89 [==============================] - 44s 495ms/step - loss: 0.7488 - accuracy: 0.7563 - val_loss: 869.8257 - val_accuracy: 0.2801\n",
      "Epoch 8/20\n",
      "89/89 [==============================] - 55s 600ms/step - loss: 0.7496 - accuracy: 0.7423 - val_loss: 1079.0121 - val_accuracy: 0.2616\n",
      "Epoch 9/20\n",
      "89/89 [==============================] - 44s 492ms/step - loss: 0.6694 - accuracy: 0.7588 - val_loss: 1011.9301 - val_accuracy: 0.1921\n",
      "Epoch 10/20\n",
      "89/89 [==============================] - 37s 419ms/step - loss: 0.6425 - accuracy: 0.7708 - val_loss: 1041.5883 - val_accuracy: 0.2384\n",
      "Epoch 11/20\n",
      "89/89 [==============================] - 48s 541ms/step - loss: 0.5628 - accuracy: 0.8111 - val_loss: 750.2952 - val_accuracy: 0.3333\n",
      "Epoch 12/20\n",
      "89/89 [==============================] - 61s 682ms/step - loss: 0.5522 - accuracy: 0.8048 - val_loss: 1063.3608 - val_accuracy: 0.2384\n",
      "Epoch 13/20\n",
      "89/89 [==============================] - 85s 948ms/step - loss: 0.5536 - accuracy: 0.8104 - val_loss: 943.0209 - val_accuracy: 0.3171\n",
      "Epoch 14/20\n",
      "89/89 [==============================] - 63s 696ms/step - loss: 0.5899 - accuracy: 0.7949 - val_loss: 1529.1678 - val_accuracy: 0.1782\n",
      "Epoch 15/20\n",
      "89/89 [==============================] - 44s 491ms/step - loss: 0.6150 - accuracy: 0.7928 - val_loss: 749.1891 - val_accuracy: 0.4028\n",
      "Epoch 16/20\n",
      "89/89 [==============================] - 45s 501ms/step - loss: 0.4893 - accuracy: 0.8202 - val_loss: 1228.3693 - val_accuracy: 0.2431\n",
      "Epoch 17/20\n",
      "89/89 [==============================] - 41s 457ms/step - loss: 0.4626 - accuracy: 0.8350 - val_loss: 968.1941 - val_accuracy: 0.3287\n",
      "Epoch 18/20\n",
      "89/89 [==============================] - 44s 497ms/step - loss: 0.4200 - accuracy: 0.8553 - val_loss: 1457.4041 - val_accuracy: 0.2523\n",
      "Epoch 19/20\n",
      "89/89 [==============================] - 41s 453ms/step - loss: 0.4806 - accuracy: 0.8301 - val_loss: 1398.1729 - val_accuracy: 0.2014\n",
      "Epoch 20/20\n",
      "89/89 [==============================] - 64s 724ms/step - loss: 0.4154 - accuracy: 0.8567 - val_loss: 1103.4139 - val_accuracy: 0.3449\n"
     ]
    },
    {
     "data": {
      "text/plain": [
       "<keras.callbacks.History at 0x176afe03f10>"
      ]
     },
     "execution_count": 21,
     "metadata": {},
     "output_type": "execute_result"
    }
   ],
   "source": [
    "model.fit_generator(x_train, steps_per_epoch = 89,epochs = 20,validation_data = x_test, validation_steps = 27)"
   ]
  },
  {
   "cell_type": "code",
   "execution_count": 22,
   "id": "349e608f",
   "metadata": {},
   "outputs": [],
   "source": [
    "model.save('vegetable.h5')"
   ]
  },
  {
   "cell_type": "code",
   "execution_count": 23,
   "id": "43a78766",
   "metadata": {},
   "outputs": [
    {
     "name": "stdout",
     "output_type": "stream",
     "text": [
      "Model: \"sequential_2\"\n",
      "_________________________________________________________________\n",
      " Layer (type)                Output Shape              Param #   \n",
      "=================================================================\n",
      " conv2d_1 (Conv2D)           (None, 126, 126, 32)      896       \n",
      "                                                                 \n",
      " max_pooling2d (MaxPooling2D  (None, 63, 63, 32)       0         \n",
      " )                                                               \n",
      "                                                                 \n",
      " flatten (Flatten)           (None, 127008)            0         \n",
      "                                                                 \n",
      " dense (Dense)               (None, 300)               38102700  \n",
      "                                                                 \n",
      " dense_1 (Dense)             (None, 150)               45150     \n",
      "                                                                 \n",
      " dense_2 (Dense)             (None, 75)                11325     \n",
      "                                                                 \n",
      " dense_3 (Dense)             (None, 9)                 684       \n",
      "                                                                 \n",
      "=================================================================\n",
      "Total params: 38,160,755\n",
      "Trainable params: 38,160,755\n",
      "Non-trainable params: 0\n",
      "_________________________________________________________________\n"
     ]
    }
   ],
   "source": [
    "model.summary()"
   ]
  },
  {
   "cell_type": "code",
   "execution_count": 24,
   "id": "94a05588",
   "metadata": {},
   "outputs": [],
   "source": [
    "from tensorflow.keras.models import load_model\n",
    "from tensorflow.keras.preprocessing.image import img_to_array\n",
    "from tensorflow.keras.preprocessing import image\n",
    "import numpy as np"
   ]
  },
  {
   "cell_type": "code",
   "execution_count": 25,
   "id": "bd2a914f",
   "metadata": {},
   "outputs": [],
   "source": [
    "model = load_model(\"vegetable.h5\")"
   ]
  },
  {
   "cell_type": "code",
   "execution_count": 26,
   "id": "20f08889",
   "metadata": {},
   "outputs": [
    {
     "data": {
      "image/png": "[encoded data removed]",
      "text/plain": [
       "<PIL.Image.Image image mode=RGB size=128x128 at 0x176AEE65940>"
      ]
     },
     "execution_count": 26,
     "metadata": {},
     "output_type": "execute_result"
    }
   ],
   "source": [
    "img = image.load_img('C:\\\\Users\\Sonam\\\\Downloads\\\\IBM Project\\\\Dataset Plant Disease\\\\Veg-dataset\\\\Veg-dataset\\\\test_set\\\\Tomato___Bacterial_spot\\\\b8e606e2-0630-453f-8688-b4350feb2bce___GCREC_Bact.Sp 3033.JPG',\n",
    "                     target_size = (128,128))\n",
    "x = image.img_to_array(img)\n",
    "x = np.expand_dims(x,axis = 0)\n",
    "x.shape\n",
    "img"
   ]
  },
  {
   "cell_type": "code",
   "execution_count": 28,
   "id": "b93a07fe",
   "metadata": {},
   "outputs": [
    {
     "name": "stdout",
     "output_type": "stream",
     "text": [
      "1/1 [==============================] - 1s 824ms/step\n"
     ]
    }
   ],
   "source": [
    "pred = model.predict(x)"
   ]
  },
  {
   "cell_type": "code",
   "execution_count": 29,
   "id": "e4698446",
   "metadata": {},
   "outputs": [
    {
     "data": {
      "text/plain": [
       "array([[0., 0., 0., 0., 0., 0., 0., 0., 1.]], dtype=float32)"
      ]
     },
     "execution_count": 29,
     "metadata": {},
     "output_type": "execute_result"
    }
   ],
   "source": [
    "pred"
   ]
  },
  {
   "cell_type": "code",
   "execution_count": null,
   "id": "62eb0a54",
   "metadata": {},
   "outputs": [],
   "source": []
  }
 ],
 "metadata": {
  "kernelspec": {
   "display_name": "Python 3 (ipykernel)",
   "language": "python",
   "name": "python3"
  },
  "language_info": {
   "codemirror_mode": {
    "name": "ipython",
    "version": 3
   },
   "file_extension": ".py",
   "mimetype": "text/x-python",
   "name": "python",
   "nbconvert_exporter": "python",
   "pygments_lexer": "ipython3",
   "version": "3.9.12"
  }
 },
 "nbformat": 4,
 "nbformat_minor": 5
}
